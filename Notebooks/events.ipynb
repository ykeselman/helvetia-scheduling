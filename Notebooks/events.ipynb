{
 "cells": [
  {
   "cell_type": "code",
   "execution_count": 1,
   "id": "13a0ea6f",
   "metadata": {},
   "outputs": [],
   "source": [
    "import icalendar"
   ]
  },
  {
   "cell_type": "code",
   "execution_count": 2,
   "id": "73e09c2b",
   "metadata": {},
   "outputs": [],
   "source": [
    "invite_str = \"\"\"\n",
    "BEGIN:VCALENDAR\n",
    "VERSION:2.0\n",
    "PRODID:-//Inverse inc./SOGo 5.1.0//EN\n",
    "BEGIN:VTIMEZONE\n",
    "TZID:America/New_York\n",
    "LAST-MODIFIED:20210303T135712Z\n",
    "X-LIC-LOCATION:America/New_York\n",
    "BEGIN:DAYLIGHT\n",
    "DTSTART:19700308T020000\n",
    "RRULE:FREQ=YEARLY;BYDAY=2SU;BYMONTH=3\n",
    "TZNAME:EDT\n",
    "TZOFFSETFROM:-0500\n",
    "TZOFFSETTO:-0400\n",
    "END:DAYLIGHT\n",
    "BEGIN:STANDARD\n",
    "DTSTART:19701101T020000\n",
    "RRULE:FREQ=YEARLY;BYDAY=1SU;BYMONTH=11\n",
    "TZNAME:EST\n",
    "TZOFFSETFROM:-0400\n",
    "TZOFFSETTO:-0500\n",
    "END:STANDARD\n",
    "END:VTIMEZONE\n",
    "BEGIN:VEVENT\n",
    "SUMMARY:Test event\n",
    "DTSTART;TZID=America/New_York:20210603T090000\n",
    "RRULE:FREQ=WEEKLY;COUNT=3\n",
    "DTEND;TZID=America/New_York:20210603T130000\n",
    "DTSTAMP:20210529T224433Z\n",
    "UID:36E-60B2C400-D-8159240\n",
    "CLASS:PUBLIC\n",
    "CREATED:20210529T224433Z\n",
    "LAST-MODIFIED:20210529T224433Z\n",
    "TRANSP:OPAQUE\n",
    "END:VEVENT\n",
    "END:VCALENDAR\n",
    "\"\"\""
   ]
  },
  {
   "cell_type": "code",
   "execution_count": 3,
   "id": "948c6787",
   "metadata": {},
   "outputs": [],
   "source": [
    "invite_str = \"\"\"\n",
    "BEGIN:VCALENDAR\n",
    "VERSION:2.0\n",
    "PRODID:-//Sabre//Sabre VObject 4.3.1//EN\n",
    "CALSCALE:GREGORIAN\n",
    "METHOD:REQUEST\n",
    "BEGIN:VTIMEZONE\n",
    "TZID:Europe/Zurich\n",
    "X-LIC-LOCATION:Europe/Zurich\n",
    "BEGIN:STANDARD\n",
    "TZOFFSETFROM:+0200\n",
    "TZOFFSETTO:+0100\n",
    "TZNAME:CET\n",
    "DTSTART:20211031T010000\n",
    "END:STANDARD\n",
    "BEGIN:DAYLIGHT\n",
    "TZOFFSETFROM:+0100\n",
    "TZOFFSETTO:+0200\n",
    "TZNAME:CEST\n",
    "DTSTART:20210328T010000\n",
    "END:DAYLIGHT\n",
    "END:VTIMEZONE\n",
    "BEGIN:VEVENT\n",
    "SUMMARY:Temp invite\n",
    "DESCRIPTION:\n",
    "LOCATION:Remote\\, CA\n",
    "TRANSP:OPAQUE\n",
    "SEQUENCE:1\n",
    "UID:71471548-f0c4-4931-a2aa-07ad87f9ff49\n",
    "DTSTART;TZID=Europe/Zurich:20210604T050000\n",
    "DTEND;TZID=Europe/Zurich:20210604T063000\n",
    "ORGANIZER;CN=Yakov Keselman;EMAIL=yk@helvetiaeducation.ch:mailto:9e4598f194\n",
    " fe0353ce9ead574bc8c4cfcab9e87f@imip.sync.infomaniak.ch\n",
    "ATTENDEE;CUTYPE=INDIVIDUAL;PARTSTAT=ACCEPTED;ROLE=CHAIR;CN=Yakov Keselman:m\n",
    " ailto:yk@helvetiaeducation.ch\n",
    "ATTENDEE;CUTYPE=INDIVIDUAL;PARTSTAT=NEEDS-ACTION;ROLE=REQ-PARTICIPANT;RSVP=\n",
    " TRUE:mailto:yakov.keselman@gmail.com\n",
    "DTSTAMP:20210603T231935Z\n",
    "END:VEVENT\n",
    "END:VCALENDAR\n",
    "\"\"\""
   ]
  },
  {
   "cell_type": "code",
   "execution_count": 4,
   "id": "8378b8cb",
   "metadata": {},
   "outputs": [],
   "source": [
    "ev = icalendar.Event.from_ical(invite_str)"
   ]
  },
  {
   "cell_type": "code",
   "execution_count": 5,
   "id": "74a6f202",
   "metadata": {},
   "outputs": [
    {
     "data": {
      "text/plain": [
       "['__bool__',\n",
       " '__class__',\n",
       " '__contains__',\n",
       " '__delattr__',\n",
       " '__delitem__',\n",
       " '__dict__',\n",
       " '__dir__',\n",
       " '__doc__',\n",
       " '__eq__',\n",
       " '__format__',\n",
       " '__ge__',\n",
       " '__getattribute__',\n",
       " '__getitem__',\n",
       " '__gt__',\n",
       " '__hash__',\n",
       " '__init__',\n",
       " '__init_subclass__',\n",
       " '__iter__',\n",
       " '__le__',\n",
       " '__len__',\n",
       " '__lt__',\n",
       " '__module__',\n",
       " '__ne__',\n",
       " '__new__',\n",
       " '__nonzero__',\n",
       " '__reduce__',\n",
       " '__reduce_ex__',\n",
       " '__repr__',\n",
       " '__reversed__',\n",
       " '__setattr__',\n",
       " '__setitem__',\n",
       " '__sizeof__',\n",
       " '__str__',\n",
       " '__subclasshook__',\n",
       " '_decode',\n",
       " '_encode',\n",
       " '_walk',\n",
       " 'add',\n",
       " 'add_component',\n",
       " 'canonical_order',\n",
       " 'clear',\n",
       " 'content_line',\n",
       " 'content_lines',\n",
       " 'copy',\n",
       " 'decoded',\n",
       " 'errors',\n",
       " 'exclusive',\n",
       " 'from_ical',\n",
       " 'fromkeys',\n",
       " 'get',\n",
       " 'get_inline',\n",
       " 'has_key',\n",
       " 'ignore_exceptions',\n",
       " 'inclusive',\n",
       " 'is_broken',\n",
       " 'is_empty',\n",
       " 'items',\n",
       " 'keys',\n",
       " 'move_to_end',\n",
       " 'multiple',\n",
       " 'name',\n",
       " 'pop',\n",
       " 'popitem',\n",
       " 'property_items',\n",
       " 'required',\n",
       " 'set_inline',\n",
       " 'setdefault',\n",
       " 'singletons',\n",
       " 'sorted_items',\n",
       " 'sorted_keys',\n",
       " 'subcomponents',\n",
       " 'to_ical',\n",
       " 'update',\n",
       " 'values',\n",
       " 'walk']"
      ]
     },
     "execution_count": 5,
     "metadata": {},
     "output_type": "execute_result"
    }
   ],
   "source": [
    "dir(ev)"
   ]
  },
  {
   "cell_type": "code",
   "execution_count": 6,
   "id": "ecd8bf06",
   "metadata": {},
   "outputs": [
    {
     "name": "stdout",
     "output_type": "stream",
     "text": [
      "<class 'icalendar.cal.Timezone'>\n"
     ]
    },
    {
     "data": {
      "text/plain": [
       "['__bool__',\n",
       " '__class__',\n",
       " '__contains__',\n",
       " '__delattr__',\n",
       " '__delitem__',\n",
       " '__dict__',\n",
       " '__dir__',\n",
       " '__doc__',\n",
       " '__eq__',\n",
       " '__format__',\n",
       " '__ge__',\n",
       " '__getattribute__',\n",
       " '__getitem__',\n",
       " '__gt__',\n",
       " '__hash__',\n",
       " '__init__',\n",
       " '__init_subclass__',\n",
       " '__iter__',\n",
       " '__le__',\n",
       " '__len__',\n",
       " '__lt__',\n",
       " '__module__',\n",
       " '__ne__',\n",
       " '__new__',\n",
       " '__nonzero__',\n",
       " '__reduce__',\n",
       " '__reduce_ex__',\n",
       " '__repr__',\n",
       " '__reversed__',\n",
       " '__setattr__',\n",
       " '__setitem__',\n",
       " '__sizeof__',\n",
       " '__str__',\n",
       " '__subclasshook__',\n",
       " '_decode',\n",
       " '_encode',\n",
       " '_extract_offsets',\n",
       " '_make_unique_tzname',\n",
       " '_walk',\n",
       " 'add',\n",
       " 'add_component',\n",
       " 'canonical_order',\n",
       " 'clear',\n",
       " 'content_line',\n",
       " 'content_lines',\n",
       " 'copy',\n",
       " 'decoded',\n",
       " 'errors',\n",
       " 'exclusive',\n",
       " 'from_ical',\n",
       " 'fromkeys',\n",
       " 'get',\n",
       " 'get_inline',\n",
       " 'has_key',\n",
       " 'ignore_exceptions',\n",
       " 'inclusive',\n",
       " 'is_broken',\n",
       " 'is_empty',\n",
       " 'items',\n",
       " 'keys',\n",
       " 'move_to_end',\n",
       " 'multiple',\n",
       " 'name',\n",
       " 'pop',\n",
       " 'popitem',\n",
       " 'property_items',\n",
       " 'required',\n",
       " 'set_inline',\n",
       " 'setdefault',\n",
       " 'singletons',\n",
       " 'sorted_items',\n",
       " 'sorted_keys',\n",
       " 'subcomponents',\n",
       " 'to_ical',\n",
       " 'to_tz',\n",
       " 'update',\n",
       " 'values',\n",
       " 'walk']"
      ]
     },
     "execution_count": 6,
     "metadata": {},
     "output_type": "execute_result"
    }
   ],
   "source": [
    "tz = ev.subcomponents[0]\n",
    "print(type(tz))\n",
    "dir(tz)"
   ]
  },
  {
   "cell_type": "code",
   "execution_count": 7,
   "id": "d5225867",
   "metadata": {},
   "outputs": [
    {
     "data": {
      "text/plain": [
       "'Europe/Zurich'"
      ]
     },
     "execution_count": 7,
     "metadata": {},
     "output_type": "execute_result"
    }
   ],
   "source": [
    "str(tz['TZID'])"
   ]
  },
  {
   "cell_type": "code",
   "execution_count": 8,
   "id": "83917f8b",
   "metadata": {},
   "outputs": [
    {
     "data": {
      "text/plain": [
       "[STANDARD({'TZOFFSETFROM': <icalendar.prop.vUTCOffset object at 0x0000026A664ECD60>, 'TZOFFSETTO': <icalendar.prop.vUTCOffset object at 0x0000026A664ECEB0>, 'TZNAME': vText('b'CET''), 'DTSTART': <icalendar.prop.vDDDTypes object at 0x0000026A664ECE50>}),\n",
       " DAYLIGHT({'TZOFFSETFROM': <icalendar.prop.vUTCOffset object at 0x0000026A664F9070>, 'TZOFFSETTO': <icalendar.prop.vUTCOffset object at 0x0000026A664F9100>, 'TZNAME': vText('b'CEST''), 'DTSTART': <icalendar.prop.vDDDTypes object at 0x0000026A664F90A0>})]"
      ]
     },
     "execution_count": 8,
     "metadata": {},
     "output_type": "execute_result"
    }
   ],
   "source": [
    "tz.subcomponents"
   ]
  },
  {
   "cell_type": "code",
   "execution_count": null,
   "id": "b67b8f68",
   "metadata": {},
   "outputs": [],
   "source": [
    "from ics import Calendar, Event\n",
    "c = Calendar()\n",
    "e = Event()\n",
    "e.name = \"My cool event\"\n",
    "e.begin = '2014-01-01 00:00:00'\n",
    "c.events.add(e)\n",
    "c.events\n",
    "# [<Event 'My cool event' begin:2014-01-01 00:00:00 end:2014-01-01 00:00:01>]"
   ]
  },
  {
   "cell_type": "code",
   "execution_count": null,
   "id": "d8f7fe96",
   "metadata": {},
   "outputs": [],
   "source": []
  },
  {
   "cell_type": "code",
   "execution_count": null,
   "id": "f6630746",
   "metadata": {},
   "outputs": [],
   "source": [
    "dir(Event)"
   ]
  },
  {
   "cell_type": "code",
   "execution_count": null,
   "id": "ebab2fc7",
   "metadata": {},
   "outputs": [],
   "source": [
    "dir(Calendar)"
   ]
  },
  {
   "cell_type": "code",
   "execution_count": null,
   "id": "fab8bcb1",
   "metadata": {},
   "outputs": [],
   "source": [
    "cev1 = Calendar(invite_str)\n",
    "cev1"
   ]
  },
  {
   "cell_type": "code",
   "execution_count": null,
   "id": "2081c3af",
   "metadata": {},
   "outputs": [],
   "source": [
    "dir(cev1)"
   ]
  },
  {
   "cell_type": "code",
   "execution_count": null,
   "id": "890c9276",
   "metadata": {},
   "outputs": [],
   "source": [
    "cev1.events"
   ]
  },
  {
   "cell_type": "code",
   "execution_count": null,
   "id": "3a544771",
   "metadata": {},
   "outputs": [],
   "source": [
    "ev1 = list(cev1.events)[0]\n",
    "\n",
    "dir(ev1)"
   ]
  },
  {
   "cell_type": "code",
   "execution_count": null,
   "id": "a169ae60",
   "metadata": {},
   "outputs": [],
   "source": [
    "ev1.end"
   ]
  },
  {
   "cell_type": "code",
   "execution_count": null,
   "id": "63432e69",
   "metadata": {},
   "outputs": [],
   "source": [
    "str(ev1)"
   ]
  },
  {
   "cell_type": "code",
   "execution_count": null,
   "id": "e37572dc",
   "metadata": {},
   "outputs": [],
   "source": [
    "print(ev1)"
   ]
  },
  {
   "cell_type": "code",
   "execution_count": null,
   "id": "a1a07b00",
   "metadata": {},
   "outputs": [],
   "source": [
    "print(cev1)"
   ]
  },
  {
   "cell_type": "code",
   "execution_count": null,
   "id": "b6e480a5",
   "metadata": {},
   "outputs": [],
   "source": [
    "for attr in dir(ev1):\n",
    "    if not attr.startswith('_'):\n",
    "        print(attr, getattr(ev1, attr))"
   ]
  },
  {
   "cell_type": "code",
   "execution_count": null,
   "id": "b77d05a9",
   "metadata": {},
   "outputs": [],
   "source": [
    "print(ev1.extra)"
   ]
  },
  {
   "cell_type": "code",
   "execution_count": null,
   "id": "585bdf60",
   "metadata": {},
   "outputs": [],
   "source": [
    "ev1.extra"
   ]
  },
  {
   "cell_type": "code",
   "execution_count": null,
   "id": "074fdcc9",
   "metadata": {},
   "outputs": [],
   "source": [
    "print(ev1.created)"
   ]
  },
  {
   "cell_type": "code",
   "execution_count": null,
   "id": "69c763fc",
   "metadata": {},
   "outputs": [],
   "source": [
    "print(ev1)"
   ]
  },
  {
   "cell_type": "code",
   "execution_count": null,
   "id": "7a03acf1",
   "metadata": {},
   "outputs": [],
   "source": [
    "type(ev1.extra[0])"
   ]
  },
  {
   "cell_type": "code",
   "execution_count": null,
   "id": "383f4644",
   "metadata": {},
   "outputs": [],
   "source": []
  }
 ],
 "metadata": {
  "kernelspec": {
   "display_name": "Python 3",
   "language": "python",
   "name": "python3"
  },
  "language_info": {
   "codemirror_mode": {
    "name": "ipython",
    "version": 3
   },
   "file_extension": ".py",
   "mimetype": "text/x-python",
   "name": "python",
   "nbconvert_exporter": "python",
   "pygments_lexer": "ipython3",
   "version": "3.8.8"
  }
 },
 "nbformat": 4,
 "nbformat_minor": 5
}
